{
 "cells": [
  {
   "cell_type": "markdown",
   "metadata": {},
   "source": [
    "# 1. Introduction"
   ]
  },
  {
   "cell_type": "markdown",
   "metadata": {},
   "source": [
    "For the project, the group decided to implement a convolutional neural network in order to use it for recognizing handwritten digits. Before this could be achieved, the group had to invest time to get a better grasp of understanding how CNN works. \n",
    "In order to achieve that, a simpler neural network had to be built, which would serve as a foundation for creating the full CNN model.\n",
    "\n",
    "The document will introduce the groups approach for building the CNN model. Firstly, the document will introduce how was the simple neural network built and showcase the initial results for recognizing digits.\n",
    "Secondly, the document will explain how was the CNN model built and explain whether it is better than a simple neural network by comparing the results.\n",
    "\n",
    "The document will also present how the group experimented with different attributes such as learning rate, momentum and random seed numbers and explain what effect do they have for the model.\n",
    "Lastly, the document will also discuss whether using a neural network for handwritten digit recognition had any ethical impact in the real world."
   ]
  },
  {
   "cell_type": "markdown",
   "metadata": {},
   "source": [
    "# 2. Neural network"
   ]
  },
  {
   "cell_type": "markdown",
   "metadata": {},
   "source": [
    "The implementation of our neural network was inspired by a third-party source [1] which introduces how to implement a neural network to people who are new to the topic. Therefore, certain variables such as the batch sizes, the learning rate as well as the momentum were kept the same. This was due to the fact that even when we slightly changed the numbers, it did not have an impact on the final results."
   ]
  },
  {
   "cell_type": "markdown",
   "metadata": {},
   "source": [
    "The following section will introduce our implementation of the neural network. The section will also cover the results such as how well did the network learn about the dataset and was it able to accurately predict the digits."
   ]
  },
  {
   "cell_type": "markdown",
   "metadata": {},
   "source": [
    "First, we import all the libraries which are used for importing the dataset and creating the network."
   ]
  },
  {
   "cell_type": "code",
   "execution_count": 28,
   "metadata": {},
   "outputs": [],
   "source": [
    "import numpy as np\n",
    "import torch\n",
    "import torchvision\n",
    "from torchvision import datasets, transforms\n",
    "from torch import nn, optim\n",
    "import matplotlib.pyplot as plt\n",
    "from sklearn.metrics import confusion_matrix\n",
    "from sklearn.utils.multiclass import unique_labels\n",
    "from sklearn.metrics import accuracy_score\n",
    "from sklearn.metrics import f1_score\n",
    "from IPython.display import HTML, Image, display\n",
    "from time import time"
   ]
  },
  {
   "cell_type": "markdown",
   "metadata": {},
   "source": [
    "Then, we create static variables that will be used later. These variables consists of values such as the rate at which the network learns from the data."
   ]
  },
  {
   "cell_type": "code",
   "execution_count": 105,
   "metadata": {},
   "outputs": [],
   "source": [
    "# Number of times to rerun the training dataset\n",
    "epochs = 50\n",
    "\n",
    "# How many images to feed through the network each time\n",
    "batch_size_train = 64\n",
    "batch_size_test = 1000\n",
    "\n",
    "# Step size for gradiant decent\n",
    "learning_rate = 0.01\n",
    "\n",
    "# Gives the network a chance to jump out of a local minima\n",
    "momentum = 0.5\n",
    "\n",
    "# Use a constant seed for randomness so that reruns becomes predictable\n",
    "random_seed = 1\n",
    "torch.manual_seed(random_seed)\n",
    "\n",
    "torch.backends.cudnn.enabled = False"
   ]
  },
  {
   "cell_type": "markdown",
   "metadata": {},
   "source": [
    "The following code blocks provides the data set with handwritten digits. It converts the images into Pytorch tensors and normalizes the pixels into the range 0 to 1."
   ]
  },
  {
   "cell_type": "code",
   "execution_count": 104,
   "metadata": {},
   "outputs": [],
   "source": [
    "training_set = torch.utils.data.DataLoader(torchvision.datasets.MNIST('/files/', train=True, download=True,\n",
    "                             transform=torchvision.transforms.Compose([torchvision.transforms.ToTensor(),\n",
    "                             torchvision.transforms.Normalize((0.5,), (0.5,))])),batch_size=batch_size_train, shuffle=True)\n",
    "\n",
    "test_set = torch.utils.data.DataLoader(torchvision.datasets.MNIST('/files/', train=False, download=True,\n",
    "                             transform=torchvision.transforms.Compose([torchvision.transforms.ToTensor(),\n",
    "                               torchvision.transforms.Normalize((0.5,), (0.5,))])),batch_size=batch_size_test, shuffle=True)"
   ]
  },
  {
   "cell_type": "markdown",
   "metadata": {},
   "source": [
    "The following line of code simply outputs the structure of the data. The output here shows that each batch in the training data contains 64 images and that each image has 28x28 pixels dimension."
   ]
  },
  {
   "cell_type": "code",
   "execution_count": 97,
   "metadata": {},
   "outputs": [
    {
     "data": {
      "text/plain": [
       "torch.Size([64, 1, 28, 28])"
      ]
     },
     "execution_count": 97,
     "metadata": {},
     "output_type": "execute_result"
    }
   ],
   "source": [
    "examples = enumerate(training_set)\n",
    "_, (example_data, example_targets) = next(examples)\n",
    "example_data.shape"
   ]
  },
  {
   "cell_type": "markdown",
   "metadata": {},
   "source": [
    "The code block below plots different numbers from the dataset to show numbers and different ways people wrote them down. Each image has a ground truth which simply means what number does the image represent. This is a way to show that everyone has a different handwriting and the network should be capable of recognizing most of the numbers."
   ]
  },
  {
   "cell_type": "code",
   "execution_count": 98,
   "metadata": {},
   "outputs": [
    {
     "data": {
      "image/png": "[encoded data removed]",
      "text/plain": [
       "<Figure size 432x288 with 9 Axes>"
      ]
     },
     "metadata": {
      "needs_background": "light"
     },
     "output_type": "display_data"
    }
   ],
   "source": [
    "import matplotlib.pyplot as plt\n",
    "\n",
    "fig = plt.figure()\n",
    "for i in range(9):\n",
    "    plt.subplot(3, 3, i + 1)\n",
    "    plt.tight_layout()\n",
    "    plt.imshow(example_data[i][0], cmap='gray', interpolation='none')\n",
    "    plt.title(\"Label: {}\".format(example_targets[i]))\n",
    "    plt.axis('off')"
   ]
  },
  {
   "cell_type": "markdown",
   "metadata": {},
   "source": [
    "The following function simply creates and returns a model that contains 3 layers: a 28x28 input layer, a hidden layer of 50 nodes and an output layer of size 10. The LogSoftmax is for normalizing the output vector to a range between 0 and 1."
   ]
  },
  {
   "cell_type": "code",
   "execution_count": 103,
   "metadata": {},
   "outputs": [],
   "source": [
    "def create_model():\n",
    "    return nn.Sequential(\n",
    "        nn.Linear(28 * 28, 50),\n",
    "        nn.ReLU(),\n",
    "        nn.Linear(50, 10),\n",
    "        nn.LogSoftmax(1)\n",
    "    )"
   ]
  },
  {
   "cell_type": "markdown",
   "metadata": {},
   "source": [
    "The following code block trains the network with the handwritten digit data (training_set). It iterates over an n amount of epochs. It also iterates over each batch from the training_set. At each iteration, it adjusts the weights as well as calculating the loss. This allows us to see how accurate is the prediction of each batch. The accuracy is stored in an array which helps to plot the training process of the network."
   ]
  },
  {
   "cell_type": "code",
   "execution_count": 106,
   "metadata": {},
   "outputs": [],
   "source": [
    "def train_model(model):\n",
    "    criterion = nn.NLLLoss()\n",
    "    optimizer = optim.SGD(model.parameters(), lr=learning_rate, momentum=momentum)\n",
    "\n",
    "    total = 0\n",
    "    nr_correct = 0\n",
    "\n",
    "    accuracy = []\n",
    "    \n",
    "    time0 = time()\n",
    "    \n",
    "    for n in range(0, epochs):\n",
    "        \n",
    "        total_train_loss_neural = 0\n",
    "        \n",
    "        for (batch_index, (images, labels)) in enumerate(training_set):\n",
    "            images = images.view(images.shape[0], -1)\n",
    "            result = model(images)\n",
    "\n",
    "            optimizer.zero_grad()\n",
    "\n",
    "            loss = criterion(result, labels)\n",
    "            total_train_loss_neural += loss.item()\n",
    "            loss.backward()\n",
    "\n",
    "            optimizer.step()\n",
    "\n",
    "            _, predictions = torch.max(result, 1)\n",
    "            total = images.size(0)\n",
    "            nr_correct = torch.sum(predictions == labels).item()\n",
    "            network_accuracy = nr_correct / total\n",
    "            accuracy.append(nr_correct / total)\n",
    "        \n",
    "        total_train_loss_neural = total_train_loss_neural / (itr + 1)\n",
    "        print('\\nEpoch: {}/{}, Train Loss: {:.8f}, Training Accuracy: {:.8f}'.format(n + 1, no_epochs, total_train_loss_neural, network_accuracy))\n",
    "    print(\"\\nTraining Time (in minutes) =\",(time()-time0)/60)\n",
    "    return accuracy"
   ]
  },
  {
   "cell_type": "markdown",
   "metadata": {},
   "source": [
    "The purpose of this function create a test model which can be used to compare to the training model. It is used to check if the model generalized to the other data."
   ]
  },
  {
   "cell_type": "code",
   "execution_count": 9,
   "metadata": {},
   "outputs": [],
   "source": [
    "def test_model(model, test_set):\n",
    "    total = 0\n",
    "    nr_correct = 0\n",
    "    \n",
    "    for images, labels in test_set:\n",
    "        images = images.view(images.shape[0], -1)\n",
    "        result = model(images)\n",
    "        \n",
    "        _, predictions = torch.max(result, 1)\n",
    "        total += images.size(0)\n",
    "        nr_correct += torch.sum(predictions == labels).item()\n",
    "                \n",
    "    return nr_correct / total"
   ]
  },
  {
   "cell_type": "markdown",
   "metadata": {},
   "source": [
    "The function within the codeblock below uses the information obtained from the training to plot the rate at which the network learns about the data. The plot contains the amount of training batches and the accuracy of the model during the training."
   ]
  },
  {
   "cell_type": "code",
   "execution_count": 10,
   "metadata": {},
   "outputs": [],
   "source": [
    "def plot_learning_rate(batch_accuracies):\n",
    "    fig, ax = plt.subplots()\n",
    "    ax.plot(\n",
    "        range(0, len(batch_accuracies)), \n",
    "        batch_accuracies\n",
    "    )\n",
    "\n",
    "    ax.set_ylim((0, 1))\n",
    "    ax.set(\n",
    "        xlabel='training batches', \n",
    "        ylabel='accuracy',\n",
    "        title='Model accuracy during training'\n",
    "    )\n",
    "\n",
    "    plt.show()"
   ]
  },
  {
   "cell_type": "markdown",
   "metadata": {},
   "source": [
    "The following lines of code simply calls out the previously mentioned functions in order to create the model, train it and plot it the information about its accuracy during training."
   ]
  },
  {
   "cell_type": "code",
   "execution_count": 107,
   "metadata": {},
   "outputs": [
    {
     "name": "stdout",
     "output_type": "stream",
     "text": [
      "\n",
      "Epoch: 1/50, Train Loss: 17.28153952, Training Accuracy: 0.81250000\n",
      "\n",
      "Epoch: 2/50, Train Loss: 9.51108647, Training Accuracy: 0.78125000\n",
      "\n",
      "Epoch: 3/50, Train Loss: 8.34680311, Training Accuracy: 0.90625000\n",
      "\n",
      "Epoch: 4/50, Train Loss: 7.44459800, Training Accuracy: 0.96875000\n",
      "\n",
      "Epoch: 5/50, Train Loss: 6.64195155, Training Accuracy: 0.96875000\n",
      "\n",
      "Epoch: 6/50, Train Loss: 5.99545728, Training Accuracy: 0.87500000\n",
      "\n",
      "Epoch: 7/50, Train Loss: 5.45393852, Training Accuracy: 0.90625000\n",
      "\n",
      "Epoch: 8/50, Train Loss: 5.00738315, Training Accuracy: 0.96875000\n",
      "\n",
      "Epoch: 9/50, Train Loss: 4.66985731, Training Accuracy: 0.96875000\n",
      "\n",
      "Epoch: 10/50, Train Loss: 4.35563648, Training Accuracy: 0.93750000\n",
      "\n",
      "Epoch: 11/50, Train Loss: 4.09841443, Training Accuracy: 0.90625000\n",
      "\n",
      "Epoch: 12/50, Train Loss: 3.88461200, Training Accuracy: 1.00000000\n",
      "\n",
      "Epoch: 13/50, Train Loss: 3.68347046, Training Accuracy: 0.93750000\n",
      "\n",
      "Epoch: 14/50, Train Loss: 3.50298778, Training Accuracy: 1.00000000\n",
      "\n",
      "Epoch: 15/50, Train Loss: 3.32281115, Training Accuracy: 0.96875000\n",
      "\n",
      "Epoch: 16/50, Train Loss: 3.18481278, Training Accuracy: 1.00000000\n",
      "\n",
      "Epoch: 17/50, Train Loss: 3.06290334, Training Accuracy: 0.96875000\n",
      "\n",
      "Epoch: 18/50, Train Loss: 2.93396324, Training Accuracy: 0.96875000\n",
      "\n",
      "Epoch: 19/50, Train Loss: 2.81832997, Training Accuracy: 0.96875000\n",
      "\n",
      "Epoch: 20/50, Train Loss: 2.72437332, Training Accuracy: 1.00000000\n",
      "\n",
      "Epoch: 21/50, Train Loss: 2.60982785, Training Accuracy: 0.96875000\n",
      "\n",
      "Epoch: 22/50, Train Loss: 2.52294067, Training Accuracy: 1.00000000\n",
      "\n",
      "Epoch: 23/50, Train Loss: 2.43931044, Training Accuracy: 1.00000000\n",
      "\n",
      "Epoch: 24/50, Train Loss: 2.36320061, Training Accuracy: 0.96875000\n",
      "\n",
      "Epoch: 25/50, Train Loss: 2.29908830, Training Accuracy: 0.96875000\n",
      "\n",
      "Epoch: 26/50, Train Loss: 2.23209288, Training Accuracy: 1.00000000\n",
      "\n",
      "Epoch: 27/50, Train Loss: 2.16047059, Training Accuracy: 1.00000000\n",
      "\n",
      "Epoch: 28/50, Train Loss: 2.11189869, Training Accuracy: 1.00000000\n",
      "\n",
      "Epoch: 29/50, Train Loss: 2.06152715, Training Accuracy: 1.00000000\n",
      "\n",
      "Epoch: 30/50, Train Loss: 1.99846847, Training Accuracy: 0.96875000\n",
      "\n",
      "Epoch: 31/50, Train Loss: 1.94436466, Training Accuracy: 1.00000000\n",
      "\n",
      "Epoch: 32/50, Train Loss: 1.89403772, Training Accuracy: 0.96875000\n",
      "\n",
      "Epoch: 33/50, Train Loss: 1.84874696, Training Accuracy: 1.00000000\n",
      "\n",
      "Epoch: 34/50, Train Loss: 1.79785303, Training Accuracy: 1.00000000\n",
      "\n",
      "Epoch: 35/50, Train Loss: 1.76647035, Training Accuracy: 0.96875000\n",
      "\n",
      "Epoch: 36/50, Train Loss: 1.72319334, Training Accuracy: 1.00000000\n",
      "\n",
      "Epoch: 37/50, Train Loss: 1.68104775, Training Accuracy: 0.93750000\n",
      "\n",
      "Epoch: 38/50, Train Loss: 1.64013780, Training Accuracy: 0.96875000\n",
      "\n",
      "Epoch: 39/50, Train Loss: 1.61581093, Training Accuracy: 1.00000000\n",
      "\n",
      "Epoch: 40/50, Train Loss: 1.57399832, Training Accuracy: 0.96875000\n",
      "\n",
      "Epoch: 41/50, Train Loss: 1.54340941, Training Accuracy: 1.00000000\n",
      "\n",
      "Epoch: 42/50, Train Loss: 1.51127185, Training Accuracy: 0.96875000\n",
      "\n",
      "Epoch: 43/50, Train Loss: 1.47290350, Training Accuracy: 1.00000000\n",
      "\n",
      "Epoch: 44/50, Train Loss: 1.44727548, Training Accuracy: 1.00000000\n",
      "\n",
      "Epoch: 45/50, Train Loss: 1.40543920, Training Accuracy: 1.00000000\n",
      "\n",
      "Epoch: 46/50, Train Loss: 1.39756673, Training Accuracy: 1.00000000\n",
      "\n",
      "Epoch: 47/50, Train Loss: 1.35864203, Training Accuracy: 1.00000000\n",
      "\n",
      "Epoch: 48/50, Train Loss: 1.34418457, Training Accuracy: 1.00000000\n",
      "\n",
      "Epoch: 49/50, Train Loss: 1.30960145, Training Accuracy: 1.00000000\n",
      "\n",
      "Epoch: 50/50, Train Loss: 1.27966579, Training Accuracy: 0.96875000\n",
      "\n",
      "Training Time (in minutes) = 8.886785189310709\n"
     ]
    },
    {
     "data": {
      "image/png": "[encoded data removed]",
      "text/plain": [
       "<Figure size 432x288 with 1 Axes>"
      ]
     },
     "metadata": {
      "needs_background": "light"
     },
     "output_type": "display_data"
    }
   ],
   "source": [
    "model = create_model()\n",
    "accuracy = train_model(model)\n",
    "plot_learning_rate(accuracy)"
   ]
  },
  {
   "cell_type": "markdown",
   "metadata": {},
   "source": [
    "The function below plots a the accuracy of the networks prediction of a single handwritten number from the test_set.\n",
    "The generated graph displays all possible 10 numbers and shows which are the closest numbers that match the handwritten number."
   ]
  },
  {
   "cell_type": "code",
   "execution_count": 12,
   "metadata": {},
   "outputs": [],
   "source": [
    "def plot_image_classification(img, ps):\n",
    "    ''' Function for viewing an image and it's predicted classes.\n",
    "    '''\n",
    "    ps = ps.cpu().data.numpy().squeeze()\n",
    "\n",
    "    fig, (ax1, ax2) = plt.subplots(figsize=(6,9), ncols=2)\n",
    "    ax1.imshow(img.resize_(1, 28, 28).numpy().squeeze(), cmap='gray', interpolation='none')\n",
    "    ax1.axis('off')\n",
    "    ax2.barh(np.arange(10), ps)\n",
    "    ax2.set_aspect(0.1)\n",
    "    ax2.set_yticks(np.arange(10))\n",
    "    ax2.set_yticklabels(np.arange(10))\n",
    "    ax2.set_title('Class Probability')\n",
    "    ax2.set_xlim(0, 1.1)\n",
    "    plt.tight_layout()"
   ]
  },
  {
   "cell_type": "markdown",
   "metadata": {},
   "source": [
    "It's time to see how well our network generalize to the test set."
   ]
  },
  {
   "cell_type": "code",
   "execution_count": 13,
   "metadata": {},
   "outputs": [
    {
     "data": {
      "text/plain": [
       "0.9134"
      ]
     },
     "execution_count": 13,
     "metadata": {},
     "output_type": "execute_result"
    }
   ],
   "source": [
    "test_model(model, test_set)"
   ]
  },
  {
   "cell_type": "markdown",
   "metadata": {},
   "source": [
    "The following code block fetches images and labels of the handwritten numbers. It fetches a single number from test_set and prints it out as an image to allow the user to know which handwritten number the network tried to predict.\n",
    "Together with the previously mentioned function, this allows to show the number that the network tries to guess together with the graph that displays the network's accuracy."
   ]
  },
  {
   "cell_type": "code",
   "execution_count": 14,
   "metadata": {},
   "outputs": [
    {
     "name": "stdout",
     "output_type": "stream",
     "text": [
      "Predicted Digit:  1\n",
      "Original Label:  1\n"
     ]
    },
    {
     "data": {
      "image/png": "[encoded data removed]",
      "text/plain": [
       "<Figure size 432x648 with 2 Axes>"
      ]
     },
     "metadata": {
      "needs_background": "light"
     },
     "output_type": "display_data"
    }
   ],
   "source": [
    "images, labels = next(iter(test_set))\n",
    "\n",
    "img = images[0].view(1, 784)\n",
    "# Turn off gradients to speed up this part\n",
    "with torch.no_grad():\n",
    "    logps = model(img)\n",
    "\n",
    "# Output of the network are log-probabilities, need to take exponential for probabilities\n",
    "ps = torch.exp(logps)\n",
    "probab = list(ps.numpy()[0])\n",
    "print(\"Predicted Digit: \", probab.index(max(probab)))\n",
    "print(\"Original Label: \", labels[0].item())\n",
    "plot_image_classification(img.view(1, 28, 28), ps)"
   ]
  },
  {
   "cell_type": "code",
   "execution_count": 108,
   "metadata": {},
   "outputs": [
    {
     "name": "stdout",
     "output_type": "stream",
     "text": [
      "Number Of Images Tested = 10000\n",
      "9721\n",
      "\n",
      "Model Accuracy = 0.9721\n"
     ]
    }
   ],
   "source": [
    "correct_count, all_count = 0, 0\n",
    "predicted_labels = []\n",
    "actual_labels = []\n",
    "for images,labels in test_set:\n",
    "    for i in range(len(labels)):\n",
    "        img = images[i].view(1, 784)\n",
    "        with torch.no_grad():\n",
    "            logps = model(img)\n",
    "\n",
    "        ps = torch.exp(logps)\n",
    "        probab = list(ps.numpy()[0])\n",
    "        pred_label = probab.index(max(probab))\n",
    "        true_label = labels.numpy()[i]\n",
    "        \n",
    "        predicted_labels.append(pred_label)\n",
    "        actual_labels.append(true_label)\n",
    "        \n",
    "        if(true_label == pred_label):\n",
    "            correct_count += 1\n",
    "        all_count += 1\n",
    "\n",
    "print(\"Number Of Images Tested =\", all_count)\n",
    "print(correct_count)\n",
    "print(\"\\nModel Accuracy =\", (correct_count/all_count))"
   ]
  },
  {
   "cell_type": "markdown",
   "metadata": {},
   "source": [
    "# 3. Confusion matrix"
   ]
  },
  {
   "cell_type": "markdown",
   "metadata": {},
   "source": [
    "In order to evaluate the accuracy of our neural network, we decided to construct a confusion matrix. The purpose of it is to help the group understand which certain numbers from the digit dataset provided the most issues. This way, it helped us understand if certain digits made the network doubt on determining the exact number it is currently looking at. With these results, it would be possible to adjust the network to reduce the odds of these problems occuring."
   ]
  },
  {
   "cell_type": "markdown",
   "metadata": {},
   "source": [
    "The way the matrix works is that it uses the data from the testing function (predicted_labels, actual_labels). Because the testing function goes over each number and informs whether it recognized the number or not, this allows the matrix to sort this information and illustrate it in a more understandable way."
   ]
  },
  {
   "cell_type": "code",
   "execution_count": 53,
   "metadata": {},
   "outputs": [],
   "source": [
    "def plot_confusion_matrix(y_true, y_pred, classes, title='Confusion Matrix', cmap=plt.cm.Blues):\n",
    "           \n",
    "    # Compute confusion matrix\n",
    "    cm = confusion_matrix(y_true, y_pred)\n",
    "    # print(cm)\n",
    "\n",
    "    fig, ax = plt.subplots(figsize = (10, 10))\n",
    "    im = ax.imshow(cm,cmap=cmap)\n",
    "    ax.figure.colorbar(im, ax=ax)\n",
    "    \n",
    "    x_classes = classes \n",
    "    classes.reverse()\n",
    "    \n",
    "    ax.set(xticks=np.arange(cm.shape[1]),\n",
    "           yticks=np.arange(cm.shape[0]),       \n",
    "           xticklabels=x_classes, yticklabels=classes,\n",
    "           title=title,\n",
    "           ylabel='True label',\n",
    "           xlabel='Predicted label')\n",
    "\n",
    "    # Rotate the tick labels and set their alignment.\n",
    "    plt.setp(ax.get_xticklabels(), ha=\"right\")\n",
    "\n",
    "    # Loop over data dimensions and create text annotations.\n",
    "    \n",
    "    for i in range(cm.shape[0]):\n",
    "        for j in range(cm.shape[1]):\n",
    "            color=\"white\" if cm[i, j] > 500 else \"black\"\n",
    "            ax.text(j, i, format(cm[i, j]), ha=\"center\", va=\"center\", color=color)\n",
    "    \n",
    "    ax.set_xticks(np.arange(cm.shape[1]+1)-.5)\n",
    "    ax.set_yticks(np.arange(cm.shape[0]+1)-.5)\n",
    "    plt.show()\n"
   ]
  },
  {
   "cell_type": "markdown",
   "metadata": {},
   "source": [
    "The following code block labels the numbers we want to illustrate, ranging from 0 to 9. It also calls out the function defined above with the data collected from the training function."
   ]
  },
  {
   "cell_type": "code",
   "execution_count": 109,
   "metadata": {},
   "outputs": [
    {
     "data": {
      "image/png": "[encoded data removed]",
      "text/plain": [
       "<Figure size 720x720 with 2 Axes>"
      ]
     },
     "metadata": {
      "needs_background": "light"
     },
     "output_type": "display_data"
    }
   ],
   "source": [
    "label_list = [0, 1, 2, 3, 4, 5, 6, 7, 8, 9,]\n",
    "\n",
    "plot_confusion_matrix(predicted_labels, actual_labels, label_list)"
   ]
  },
  {
   "cell_type": "markdown",
   "metadata": {},
   "source": [
    "#### 4. Creating the CNN and searching for hyper params\n",
    "\n",
    "*SOME GENERAL BLOCK EXPLAINING GRID SEARCH AND OUR PLAN*\n",
    "\n",
    "@TODO something about why we don't test different batch sizes here?@\n",
    "@TODO why we will only try one epoch for all models, going through 1000+ combinations takes long time@\n",
    "@TODO something about missing models with slow learning rate?@\n",
    "@TODO something about why we have chosen grid search over just random search?@\n",
    "\n",
    "## 4.1 CNN Model"
   ]
  },
  {
   "cell_type": "code",
   "execution_count": 8,
   "metadata": {},
   "outputs": [],
   "source": [
    "class Model_Custom_CNN(nn.Module):\n",
    "    def __init__(self, hyper_params):\n",
    "        super(Model_Custom_CNN, self).__init__()\n",
    "        self.hyper_params = hyper_params\n",
    "        \n",
    "        layers = []\n",
    "        for n in self.hyper_params['conv_layers']:\n",
    "            conv_layer = nn.Conv2d(\n",
    "                n['in_channels'], \n",
    "                n['out_channels'], \n",
    "                n['kernel_size']\n",
    "            )\n",
    "            layers.append(conv_layer)\n",
    "            layers.append(self.get_activation_function())\n",
    "            layers.append(nn.MaxPool2d(2))\n",
    "        self.conv = nn.Sequential(*layers)\n",
    "        \n",
    "        layers = []\n",
    "        for i in range(len(self.hyper_params['regular_layers']) - 1):\n",
    "            nr_in = self.hyper_params['regular_layers'][i];\n",
    "            nr_out = self.hyper_params['regular_layers'][i + 1];\n",
    "            layers.append(nn.Linear(nr_in, nr_out))\n",
    "            layers.append(self.get_activation_function())\n",
    "        \n",
    "        # The output layer should not have an activation function\n",
    "        layers.pop()\n",
    "        \n",
    "        self.net = nn.Sequential(*layers)\n",
    "          \n",
    "        learning_rate = self.hyper_params['learning_rate']\n",
    "        momentum = self.hyper_params['momentum']\n",
    "        optimizer = self.hyper_params['optimizer']\n",
    "        if optimizer == 'SGD':\n",
    "            self.optimizer = optim.SGD(self.parameters(), lr=learning_rate, momentum=momentum)\n",
    "        elif optimizer == 'Adam':\n",
    "            self.optimizer = optim.Adam(self.parameters(), lr=learning_rate)\n",
    "        else:\n",
    "            raise Exception('Invalid optimizer')\n",
    "            \n",
    "        criterion = self.hyper_params['criterion']\n",
    "        if criterion == 'CrossEntropy':\n",
    "            self.criterion = nn.CrossEntropyLoss()\n",
    "        else:\n",
    "            raise Exception('Invalid criterion')\n",
    "            \n",
    "        if run_on_gpu:\n",
    "            self.to(device)\n",
    "        \n",
    "        \n",
    "    def get_activation_function(self):\n",
    "        fun = self.hyper_params['activation_function']\n",
    "        if fun == 'ReLU':\n",
    "            return nn.ReLU()\n",
    "        if fun == 'Sigmoid':\n",
    "            return torch.nn.Sigmoid()\n",
    "        if fun == 'Swish':\n",
    "            return Swish()\n",
    "        \n",
    "        \n",
    "    def forward(self, tensor):\n",
    "        tensor = self.conv(tensor)\n",
    "        tensor = tensor.reshape(tensor.size(0), -1)\n",
    "        return self.net(tensor)\n",
    "    \n",
    "    \n",
    "    def fit(self, tensor, labels):\n",
    "        if run_on_gpu:\n",
    "            tensor = tensor.to(device)\n",
    "            labels = labels.to(device)\n",
    "        result = self(tensor)\n",
    "        \n",
    "        self.optimizer.zero_grad()\n",
    "        loss = self.criterion(result, labels)\n",
    "        loss.backward()\n",
    "        self.optimizer.step()\n",
    "        \n",
    "        _, predictions = torch.max(result, 1)\n",
    "        total = tensor.size(0)\n",
    "        nr_correct = torch.sum(predictions == labels).item()\n",
    "        \n",
    "        return (nr_correct / total, loss.item())"
   ]
  },
  {
   "cell_type": "markdown",
   "metadata": {},
   "source": [
    "This class constructs a model from a dictionary of hyper parameters which allows us to have a variable amount of convolutional layers, hidden layers and different activation functions etc. We've chosen to have a dictionary instead of multiple params to the constructor for an easy way to save, load and print the different model parameters.\n",
    "\n",
    "Based on @TODO BASE IT ON SOMETHING@ and in order to reduce the amount of different combinations that can be made, we have chosen to only have the convolutional layers in the start of the network and to an activation function and a pooling layer for each convolutional layer.\n",
    "\n",
    "The forward function describes what steps to make when running the network. We are first running the input tensor through convolutional layers then converting the output to a vector which we feed though the rest of the network. The function gets called when running the network because we are extending nn.Module\n",
    "\n",
    "The fit function runs the network and does backpropagation. It returns the accuracy and loss for the input tensor."
   ]
  },
  {
   "cell_type": "markdown",
   "metadata": {},
   "source": [
    "## 4.2 Grid search"
   ]
  },
  {
   "cell_type": "code",
   "execution_count": 9,
   "metadata": {},
   "outputs": [],
   "source": [
    "def hyper_parameter_permutations():\n",
    "    layer_sizes = [32, 64, 128]\n",
    "    hidden_layers = [list(n) for n in itertools.permutations(layer_sizes, 1)]\\\n",
    "                  + [[a, b] for (a, b) in itertools.permutations(layer_sizes, 2) if a >= b]\n",
    "    \n",
    "    channel_sizes = [4, 8, 16]\n",
    "    conv_layers = [list(n) for n in itertools.permutations(channel_sizes, 1)]\\\n",
    "                + [[a, b] for (a, b) in itertools.permutations(channel_sizes, 2) if a <= b]\n",
    "    \n",
    "    kernel_sizes = [5]\n",
    "    activation_functions = ['ReLU', 'Sigmoid', 'Swish']\n",
    "    criterions = ['CrossEntropy']\n",
    "    \n",
    "    #Adding momentum directly to the optimizer since it's only used for SGD\n",
    "    optimizers = [('SGD', 0.1), ('SGD', 0.5), ('SGD', 1.0), 'Adam']\n",
    "    learning_rates = [0.1, 0.01, 0.001]\n",
    "\n",
    "    return itertools.product(\n",
    "        hidden_layers,\n",
    "        conv_layers,\n",
    "        kernel_sizes,\n",
    "        activation_functions,\n",
    "        criterions,\n",
    "        optimizers,\n",
    "        learning_rates\n",
    "    )"
   ]
  },
  {
   "cell_type": "code",
   "execution_count": 10,
   "metadata": {},
   "outputs": [],
   "source": [
    "class Swish(nn.Module):\n",
    "    def forward(self, input_tensor):\n",
    "        return input_tensor * torch.sigmoid(input_tensor)"
   ]
  },
  {
   "cell_type": "markdown",
   "metadata": {},
   "source": [
    "The function hyper_parameter_permutations creates a list of all different permutations that we want to test in our search.\n",
    "As mentioned earlier we based our convolutional network on @TODO BASE IT ON SOMETHING@ and therefore we are using that networks hyper parameters as our starting point. @TODO something about the choice of ranges?@ @TODO something about the limitations that we had to make?@\n",
    "\n",
    "Hidden layers and convolution layers:\n",
    "todo\n",
    "\n",
    "Kernel size:\n",
    "In order to reduce the amount of combinations we are only testing one kernel size.\n",
    "\n",
    "We are testing three different activation functions: Sigmoid, ReLU and Swish.\n",
    "Sigmoid bad\n",
    "ReLU everyone uses\n",
    "Swish new from google, supposedly good\n",
    "\n",
    "Criterions:\n",
    "Searching through the Internet for good loss functions for classification problems, we only found NLLLoss (The negative log likelihood loss) and Cross Entropy loss that worked with our existing model. Since Cross Entropy Loss is the same as NLLLoss and LogSoftMax @@EXPLAINATION@@ combined we are only using that one.\n",
    "\n",
    "Optimizers:\n",
    "todo\n",
    "\n",
    "Learning rates: \n",
    "todo"
   ]
  },
  {
   "cell_type": "code",
   "execution_count": 11,
   "metadata": {},
   "outputs": [],
   "source": [
    "def permutation_to_dictionary(hidden_layers, channel_sizes, kernel_size, act_fun, criterion, optimizer, learning_rate):\n",
    "    conv_layers = []\n",
    "    in_channels = 1\n",
    "    side_length = 28\n",
    "    for channel_size in channel_sizes:\n",
    "        out_channels = channel_size\n",
    "        conv_layers.append(\n",
    "            {\n",
    "                'in_channels': in_channels,\n",
    "                'out_channels': out_channels,\n",
    "                'kernel_size': kernel_size\n",
    "            }\n",
    "        )\n",
    "        in_channels = out_channels\n",
    "    \n",
    "        side_length -= kernel_size - 1\n",
    "        side_length //= 2\n",
    "        \n",
    "    if type(optimizer) is tuple:\n",
    "        momentum = optimizer[1]\n",
    "        optimizer = optimizer[0]\n",
    "    else:\n",
    "        momentum = 0\n",
    "    \n",
    "    regular_layers = [side_length * side_length * out_channels] + hidden_layers + [10]\n",
    "    return {\n",
    "        'conv_layers': conv_layers,\n",
    "        'regular_layers': regular_layers,\n",
    "        'activation_function': act_fun,\n",
    "        'optimizer': optimizer,\n",
    "        'criterion': criterion,\n",
    "        'learning_rate': learning_rate,\n",
    "        'momentum': momentum\n",
    "    }"
   ]
  },
  {
   "cell_type": "markdown",
   "metadata": {},
   "source": [
    "This function converts the hyper parameter permutations to the dictionary format that we use to construct the models."
   ]
  },
  {
   "cell_type": "code",
   "execution_count": 12,
   "metadata": {},
   "outputs": [],
   "source": [
    "def grid_search():\n",
    "    gc.collect()\n",
    "    before = time.time()\n",
    "\n",
    "    models = []\n",
    "    \n",
    "    permutations = list(hyper_parameter_permutations())\n",
    "    \n",
    "    print(\"Searching through {} permutations\".format(len(permutations)))\n",
    "\n",
    "    i = 0\n",
    "    for n in permutations:\n",
    "        grid_search_helper(n, models)\n",
    "        break\n",
    "        i += 1\n",
    "        \n",
    "        if i % 100 == 0:\n",
    "            print(\"{} complete, time elapsed: {:.2f} minutes\".format(i, (time.time() - before) / 60))\n",
    "            \n",
    "        if i % 500 == 0:\n",
    "            gc.collect()\n",
    "\n",
    "    models.sort(key=lambda n: n[0], reverse=True)\n",
    "\n",
    "    after = time.time()\n",
    "    print(\"Done, took {:.2f} minutes\".format((after - before) / 60))\n",
    "    \n",
    "    return models\n",
    "\n",
    "# Wrapper function that allows the garbage collector to run\n",
    "def grid_search_helper(permutation, models):\n",
    "    hyper_params = permutation_to_dictionary(*permutation)\n",
    "    model = Model_Custom_CNN(hyper_params)\n",
    "    train_model(model)\n",
    "    accuracy = test_model(model, test_set)\n",
    "    models.append((accuracy, model.hyper_params))\n"
   ]
  },
  {
   "cell_type": "markdown",
   "metadata": {},
   "source": [
    "Here is the actual search, where we are searching for the model with the highest accuracy by going though all permutations, constructing a model for each, training it and comparing the model to the test set. Then storing the models hyper parameters along with the accuracy in a sorted list from best accuracy to worst. In our first run we ran out of memory so we had to wrap the logic for each model in a separate function so that we could run the garbage collector."
   ]
  },
  {
   "cell_type": "code",
   "execution_count": 13,
   "metadata": {},
   "outputs": [],
   "source": [
    "def write_json(params, filename):\n",
    "    params_json = json.dumps(params)\n",
    "    f = open(filename, \"w\")\n",
    "    f.write(params_json)\n",
    "    f.close()\n",
    "    \n",
    "def read_json(filename):\n",
    "    f = open(filename, \"r\")\n",
    "    params = json.loads(f.read())\n",
    "    f.close()\n",
    "    return params"
   ]
  },
  {
   "cell_type": "markdown",
   "metadata": {},
   "source": [
    "Because we don't want to perform our lengthy grid search multiple times, we have a simple read/write to a json file."
   ]
  },
  {
   "cell_type": "code",
   "execution_count": 1,
   "metadata": {},
   "outputs": [],
   "source": [
    "epochs = 1\n",
    "models = grid_search()\n",
    "write_json(models, \"one_epoch_models.json\")"
   ]
  },
  {
   "cell_type": "markdown",
   "metadata": {},
   "source": [
    "*BLOCK ABOUT RUNNING IT + DISPLAY GRAPH + DRAW CONCLUSION ABOUT HYPER PARAMS*"
   ]
  },
  {
   "cell_type": "markdown",
   "metadata": {},
   "source": [
    "## 4.3 Training networks for multiple epochs"
   ]
  },
  {
   "cell_type": "markdown",
   "metadata": {},
   "source": [
    "# 5. External CNN"
   ]
  },
  {
   "cell_type": "markdown",
   "metadata": {},
   "source": [
    "After creating our own CNN model and evaluating both the training accuracy and testing accuracy, the next step was to find an external CNN model. This would be done to further evaluate our custom model to determine if it is performing the same or even better than previously existing CNN models.\n",
    "\n",
    "A CNN model was discovered on [2] which both explains how each parts of the network work as well as provide the full source code for other people to test it.\n",
    "\n",
    "This section will quickly go over the parts of the external CNN model and explain whether this model is better than our own custome one."
   ]
  },
  {
   "cell_type": "markdown",
   "metadata": {},
   "source": [
    "The following code block imports the same dataset of handwritten digits as the previous neural network. However, it splits the data into 3 different arrays, train_dataloader, val_dataloader and test_dataloader. The first array contains 60000 training images for the network to learn from. The second array is used to validate the network to determine whether the network is still providing the correct results, to determine if it is underfitting or overfitting. The third array is used to further test and validate the results once more for correctness."
   ]
  },
  {
   "cell_type": "code",
   "execution_count": 51,
   "metadata": {
    "scrolled": true
   },
   "outputs": [
    {
     "name": "stdout",
     "output_type": "stream",
     "text": [
      "Training dataset size:  60000\n",
      "Validation dataset size:  1000\n",
      "Testing dataset size:  9000\n"
     ]
    }
   ],
   "source": [
    "mnist_trainset = datasets.MNIST(root='./data', train=True, download=True, transform=transforms.Compose([transforms.ToTensor()]))\n",
    "mnist_testset = datasets.MNIST(root='./data', train=False, download=True, transform=transforms.Compose([transforms.ToTensor()]))\n",
    "\n",
    "mnist_valset, mnist_testset = torch.utils.data.random_split(mnist_testset, [int(0.1 * len(mnist_testset)), int(0.9 * len(mnist_testset))])\n",
    "\n",
    "train_dataloader = torch.utils.data.DataLoader(mnist_trainset, batch_size=64, shuffle=True)\n",
    "val_dataloader = torch.utils.data.DataLoader(mnist_valset, batch_size=32, shuffle=False)\n",
    "test_dataloader = torch.utils.data.DataLoader(mnist_testset, batch_size=32, shuffle=False)\n",
    "\n",
    "print(\"Training dataset size: \", len(mnist_trainset))\n",
    "print(\"Validation dataset size: \", len(mnist_valset))\n",
    "print(\"Testing dataset size: \", len(mnist_testset))"
   ]
  },
  {
   "cell_type": "markdown",
   "metadata": {},
   "source": [
    "The following code block creates the CNN model. It consists of 2 convolutional layers, 1 max pooling layer, 2 hidden layers and an output layer. It also creates a feed-forward function that is used when sending data to the model."
   ]
  },
  {
   "cell_type": "code",
   "execution_count": 110,
   "metadata": {},
   "outputs": [],
   "source": [
    "class Model_External_CNN(torch.nn.Module):\n",
    "    def __init__(self):\n",
    "        super(Model_External_CNN, self).__init__()\n",
    "        self.conv_1 = torch.nn.Conv2d(in_channels=1, out_channels=32, kernel_size=3, stride=1, padding=1)\n",
    "        self.conv_2 = torch.nn.Conv2d(in_channels=32, out_channels=64, kernel_size=3, stride=1, padding=1)\n",
    "        self.max_pool2d = torch.nn.MaxPool2d(kernel_size=2, stride=2)\n",
    "        self.linear_1 = torch.nn.Linear(7 * 7 * 64, 128)\n",
    "        self.linear_2 = torch.nn.Linear(128, 10)\n",
    "        self.dropout = torch.nn.Dropout(p=0.5)\n",
    "        self.relu = torch.nn.ReLU()\n",
    "\n",
    "    def forward(self, x):\n",
    "        x = self.conv_1(x)\n",
    "        x = self.relu(x)\n",
    "        x = self.max_pool2d(x)\n",
    "        x = self.conv_2(x)\n",
    "        x = self.relu(x)\n",
    "        x = self.max_pool2d(x)\n",
    "        x = x.reshape(x.size(0), -1)\n",
    "        x = self.linear_1(x)\n",
    "        x = self.relu(x)\n",
    "        x = self.dropout(x)\n",
    "        pred = self.linear_2(x)\n",
    "\n",
    "        return pred"
   ]
  },
  {
   "cell_type": "markdown",
   "metadata": {},
   "source": [
    "The code below simply creates a new instance of the model, defines the criterion and the optimizer functions. It also initializes how many epochs will it iterate over as well as define variables that will be used for measuring the loss when training and validating the data."
   ]
  },
  {
   "cell_type": "code",
   "execution_count": 111,
   "metadata": {},
   "outputs": [],
   "source": [
    "model = Model_External_CNN()\n",
    "criterion = torch.nn.CrossEntropyLoss()\n",
    "optimizer = torch.optim.Adam(model.parameters(), lr=0.001)\n",
    "\n",
    "no_epochs = 50\n",
    "train_loss = list()\n",
    "val_loss = list()\n",
    "best_val_loss = 1"
   ]
  },
  {
   "cell_type": "markdown",
   "metadata": {},
   "source": [
    "The code block below is the core part of the external CNN. Here a for loop iterates over an n amount of epochs. At each iteration, the network is trained with the training dataset. Afterwards, the CNN is validated with more data using a separate validation dataset. At each iteration, the loop prints out the training and validation loss and the measured accuracy."
   ]
  },
  {
   "cell_type": "code",
   "execution_count": 112,
   "metadata": {},
   "outputs": [
    {
     "name": "stdout",
     "output_type": "stream",
     "text": [
      "\n",
      "Epoch: 1/50, Train Loss: 0.25204422, Val Loss: 0.06169434, Val Accuracy: 0.97800000\n",
      "Saving the model state dictionary for Epoch: 1 with Validation loss: 0.06169434\n",
      "\n",
      "Epoch: 2/50, Train Loss: 0.09229223, Val Loss: 0.04469227, Val Accuracy: 0.98600000\n",
      "Saving the model state dictionary for Epoch: 2 with Validation loss: 0.04469227\n",
      "\n",
      "Epoch: 3/50, Train Loss: 0.06886229, Val Loss: 0.03801590, Val Accuracy: 0.98500000\n",
      "Saving the model state dictionary for Epoch: 3 with Validation loss: 0.03801590\n",
      "\n",
      "Epoch: 4/50, Train Loss: 0.05428508, Val Loss: 0.03409294, Val Accuracy: 0.98800000\n",
      "Saving the model state dictionary for Epoch: 4 with Validation loss: 0.03409294\n",
      "\n",
      "Epoch: 5/50, Train Loss: 0.04650975, Val Loss: 0.04463979, Val Accuracy: 0.98500000\n",
      "\n",
      "Epoch: 6/50, Train Loss: 0.03977481, Val Loss: 0.03561342, Val Accuracy: 0.98900000\n",
      "\n",
      "Epoch: 7/50, Train Loss: 0.03510707, Val Loss: 0.04325395, Val Accuracy: 0.98500000\n",
      "\n",
      "Epoch: 8/50, Train Loss: 0.03010611, Val Loss: 0.04131830, Val Accuracy: 0.98700000\n",
      "\n",
      "Epoch: 9/50, Train Loss: 0.02663798, Val Loss: 0.04594421, Val Accuracy: 0.98800000\n",
      "\n",
      "Epoch: 10/50, Train Loss: 0.02540358, Val Loss: 0.04856818, Val Accuracy: 0.98400000\n",
      "\n",
      "Epoch: 11/50, Train Loss: 0.02172082, Val Loss: 0.03969173, Val Accuracy: 0.99100000\n",
      "\n",
      "Epoch: 12/50, Train Loss: 0.02089767, Val Loss: 0.03035584, Val Accuracy: 0.99400000\n",
      "Saving the model state dictionary for Epoch: 12 with Validation loss: 0.03035584\n",
      "\n",
      "Epoch: 13/50, Train Loss: 0.01767137, Val Loss: 0.03787538, Val Accuracy: 0.99000000\n",
      "\n",
      "Epoch: 14/50, Train Loss: 0.01798038, Val Loss: 0.04629783, Val Accuracy: 0.98700000\n",
      "\n",
      "Epoch: 15/50, Train Loss: 0.01626833, Val Loss: 0.03673127, Val Accuracy: 0.98800000\n",
      "\n",
      "Epoch: 16/50, Train Loss: 0.01501078, Val Loss: 0.03199743, Val Accuracy: 0.99000000\n",
      "\n",
      "Epoch: 17/50, Train Loss: 0.01315211, Val Loss: 0.04824921, Val Accuracy: 0.99000000\n",
      "\n",
      "Epoch: 18/50, Train Loss: 0.01238886, Val Loss: 0.04225363, Val Accuracy: 0.99000000\n",
      "\n",
      "Epoch: 19/50, Train Loss: 0.01178094, Val Loss: 0.04686575, Val Accuracy: 0.98900000\n",
      "\n",
      "Epoch: 20/50, Train Loss: 0.01224031, Val Loss: 0.05201200, Val Accuracy: 0.98600000\n",
      "\n",
      "Epoch: 21/50, Train Loss: 0.01073552, Val Loss: 0.02635331, Val Accuracy: 0.99100000\n",
      "Saving the model state dictionary for Epoch: 21 with Validation loss: 0.02635331\n",
      "\n",
      "Epoch: 22/50, Train Loss: 0.01056507, Val Loss: 0.03048454, Val Accuracy: 0.99000000\n",
      "\n",
      "Epoch: 23/50, Train Loss: 0.01002132, Val Loss: 0.04781636, Val Accuracy: 0.98700000\n",
      "\n",
      "Epoch: 24/50, Train Loss: 0.01085987, Val Loss: 0.04473381, Val Accuracy: 0.98700000\n",
      "\n",
      "Epoch: 25/50, Train Loss: 0.00959937, Val Loss: 0.04712773, Val Accuracy: 0.98600000\n",
      "\n",
      "Epoch: 26/50, Train Loss: 0.00936159, Val Loss: 0.05307422, Val Accuracy: 0.98600000\n",
      "\n",
      "Epoch: 27/50, Train Loss: 0.00885278, Val Loss: 0.06025118, Val Accuracy: 0.98800000\n",
      "\n",
      "Epoch: 28/50, Train Loss: 0.00871915, Val Loss: 0.06540453, Val Accuracy: 0.98700000\n",
      "\n",
      "Epoch: 29/50, Train Loss: 0.00899853, Val Loss: 0.06826857, Val Accuracy: 0.98600000\n",
      "\n",
      "Epoch: 30/50, Train Loss: 0.00780654, Val Loss: 0.05336521, Val Accuracy: 0.98800000\n",
      "\n",
      "Epoch: 31/50, Train Loss: 0.00795830, Val Loss: 0.11095466, Val Accuracy: 0.98500000\n",
      "\n",
      "Epoch: 32/50, Train Loss: 0.01014574, Val Loss: 0.05750275, Val Accuracy: 0.99000000\n",
      "\n",
      "Epoch: 33/50, Train Loss: 0.00743641, Val Loss: 0.08555113, Val Accuracy: 0.98900000\n",
      "\n",
      "Epoch: 34/50, Train Loss: 0.00707563, Val Loss: 0.07940484, Val Accuracy: 0.98700000\n",
      "\n",
      "Epoch: 35/50, Train Loss: 0.00784756, Val Loss: 0.05541709, Val Accuracy: 0.99100000\n",
      "\n",
      "Epoch: 36/50, Train Loss: 0.00654513, Val Loss: 0.05909424, Val Accuracy: 0.99000000\n",
      "\n",
      "Epoch: 37/50, Train Loss: 0.00751744, Val Loss: 0.05848258, Val Accuracy: 0.99200000\n",
      "\n",
      "Epoch: 38/50, Train Loss: 0.00661081, Val Loss: 0.05112958, Val Accuracy: 0.98800000\n",
      "\n",
      "Epoch: 39/50, Train Loss: 0.00710323, Val Loss: 0.05539930, Val Accuracy: 0.98700000\n",
      "\n",
      "Epoch: 40/50, Train Loss: 0.00676928, Val Loss: 0.07686080, Val Accuracy: 0.99200000\n",
      "\n",
      "Epoch: 41/50, Train Loss: 0.00638038, Val Loss: 0.04873375, Val Accuracy: 0.99100000\n",
      "\n",
      "Epoch: 42/50, Train Loss: 0.00549781, Val Loss: 0.08184218, Val Accuracy: 0.99000000\n",
      "\n",
      "Epoch: 43/50, Train Loss: 0.00542247, Val Loss: 0.07413046, Val Accuracy: 0.98900000\n",
      "\n",
      "Epoch: 44/50, Train Loss: 0.00732428, Val Loss: 0.07790413, Val Accuracy: 0.98800000\n",
      "\n",
      "Epoch: 45/50, Train Loss: 0.00617428, Val Loss: 0.06027102, Val Accuracy: 0.99100000\n",
      "\n",
      "Epoch: 46/50, Train Loss: 0.00604079, Val Loss: 0.09886186, Val Accuracy: 0.98700000\n",
      "\n",
      "Epoch: 47/50, Train Loss: 0.00482481, Val Loss: 0.07836512, Val Accuracy: 0.98900000\n",
      "\n",
      "Epoch: 48/50, Train Loss: 0.00718625, Val Loss: 0.09166138, Val Accuracy: 0.98700000\n",
      "\n",
      "Epoch: 49/50, Train Loss: 0.00623161, Val Loss: 0.06942528, Val Accuracy: 0.98800000\n",
      "\n",
      "Epoch: 50/50, Train Loss: 0.00507161, Val Loss: 0.09505172, Val Accuracy: 0.99000000\n",
      "\n",
      "Training Time (in minutes) = 73.27438774108887\n"
     ]
    }
   ],
   "source": [
    "time0 = time()\n",
    "\n",
    "for epoch in range(no_epochs):\n",
    "    total_train_loss = 0\n",
    "    total_val_loss = 0\n",
    "\n",
    "    model.train()\n",
    "    \n",
    "    # training\n",
    "    for itr, (image, label) in enumerate(train_dataloader):\n",
    "\n",
    "        optimizer.zero_grad()\n",
    "\n",
    "        pred = model(image)\n",
    "\n",
    "        loss = criterion(pred, label)\n",
    "        total_train_loss += loss.item()\n",
    "\n",
    "        loss.backward()\n",
    "        optimizer.step()\n",
    "\n",
    "    total_train_loss = total_train_loss / (itr + 1)\n",
    "    train_loss.append(total_train_loss)\n",
    "\n",
    "    # validation\n",
    "    model.eval()\n",
    "    total = 0\n",
    "    for itr, (image, label) in enumerate(val_dataloader):\n",
    "\n",
    "        pred = model(image)\n",
    "\n",
    "        loss = criterion(pred, label)\n",
    "        total_val_loss += loss.item()\n",
    "\n",
    "        pred = torch.nn.functional.softmax(pred, dim=1)\n",
    "        for i, p in enumerate(pred):\n",
    "            if label[i] == torch.max(p.data, 0)[1]:\n",
    "                total = total + 1\n",
    "\n",
    "    accuracy = total / len(mnist_valset)\n",
    "\n",
    "    total_val_loss = total_val_loss / (itr + 1)\n",
    "    val_loss.append(total_val_loss)\n",
    "\n",
    "    print('\\nEpoch: {}/{}, Train Loss: {:.8f}, Val Loss: {:.8f}, Val Accuracy: {:.8f}'.format(epoch + 1, no_epochs, total_train_loss, total_val_loss, accuracy))\n",
    "\n",
    "    if total_val_loss < best_val_loss:\n",
    "        best_val_loss = total_val_loss\n",
    "        print(\"Saving the model state dictionary for Epoch: {} with Validation loss: {:.8f}\".format(epoch + 1, total_val_loss))\n",
    "        torch.save(model.state_dict(), \"model.dth\")\n",
    "print(\"\\nTraining Time (in minutes) =\",(time()-time0)/60)"
   ]
  },
  {
   "cell_type": "markdown",
   "metadata": {},
   "source": [
    "The following code block prints out the training and validation loss of the CNN."
   ]
  },
  {
   "cell_type": "code",
   "execution_count": 113,
   "metadata": {},
   "outputs": [
    {
     "data": {
      "image/png": "[encoded data removed]",
      "text/plain": [
       "<Figure size 1440x720 with 1 Axes>"
      ]
     },
     "metadata": {
      "needs_background": "light"
     },
     "output_type": "display_data"
    }
   ],
   "source": [
    "fig=plt.figure(figsize=(20, 10))\n",
    "plt.plot(np.arange(1, no_epochs+1), train_loss, label=\"Train loss\")\n",
    "plt.plot(np.arange(1, no_epochs+1), val_loss, label=\"Validation loss\")\n",
    "plt.xlabel('Loss')\n",
    "plt.ylabel('Epochs')\n",
    "plt.title(\"Loss Plots\")\n",
    "plt.legend(loc='upper right')\n",
    "plt.show()"
   ]
  },
  {
   "cell_type": "markdown",
   "metadata": {},
   "source": [
    "Finally, the following code block runs over a testing dataset, that consists of 1000 images. This is used to finalize the results and determine if the trained network provided accurate results."
   ]
  },
  {
   "cell_type": "code",
   "execution_count": 114,
   "metadata": {},
   "outputs": [
    {
     "data": {
      "image/png": "[encoded data removed]",
      "text/plain": [
       "<Figure size 720x720 with 2 Axes>"
      ]
     },
     "metadata": {
      "needs_background": "light"
     },
     "output_type": "display_data"
    }
   ],
   "source": [
    "# test model for external CNN\n",
    "\n",
    "correct_count, all_count = 0, 0\n",
    "predicted_labels_external_CNN = []\n",
    "actual_labels_external_CNN = []\n",
    "\n",
    "for images,labels in test_dataloader:\n",
    "    result = model(images)\n",
    "    \n",
    "    _, predictions = torch.max(result, 1)\n",
    "    predicted_labels_external_CNN = predicted_labels_external_CNN + predictions.tolist()\n",
    "    actual_labels_external_CNN = actual_labels_external_CNN + labels.tolist()\n",
    "    all_count += images.size(0)\n",
    "    \n",
    "label_list = [0, 1, 2, 3, 4, 5, 6, 7, 8, 9,]\n",
    "plot_confusion_matrix(predicted_labels_external_CNN, actual_labels_external_CNN, label_list)"
   ]
  },
  {
   "cell_type": "markdown",
   "metadata": {},
   "source": [
    "# Comparing results"
   ]
  },
  {
   "cell_type": "code",
   "execution_count": 115,
   "metadata": {},
   "outputs": [
    {
     "data": {
      "image/png": "[encoded data removed]",
      "text/plain": [
       "<Figure size 720x720 with 2 Axes>"
      ]
     },
     "metadata": {
      "needs_background": "light"
     },
     "output_type": "display_data"
    },
    {
     "data": {
      "image/png": "[encoded data removed]",
      "text/plain": [
       "<Figure size 720x720 with 2 Axes>"
      ]
     },
     "metadata": {
      "needs_background": "light"
     },
     "output_type": "display_data"
    }
   ],
   "source": [
    "# Plot confusion matrix of the external CNN\n",
    "plot_confusion_matrix(predicted_labels_external_CNN, actual_labels_external_CNN, label_list)\n",
    "\n",
    "# Plot confusion matrix of our custom CNN\n",
    "#plot_confusion_matrix(predicted_labels_custom_CNN, actual_labels_custom_CNN, label_list)\n",
    "\n",
    "# Plot confusion matrix of the simple neural network\n",
    "plot_confusion_matrix(predicted_labels, actual_labels, label_list)"
   ]
  },
  {
   "cell_type": "markdown",
   "metadata": {},
   "source": [
    "After implementing the basic neural network as well as the custom CNN, it was important to compare the results together with the external CNN model found online. Because this is a classification problem, the aspects we decided to measure were the time it took to train the model, evaluate how well did the model perform for each digit as well as compare the network's accuracy.\n",
    "\n",
    "Below, multiple confusion matrices can be seen that correspond to each model. Comparing the neural network's and the external CNN confusion matrices, it can be seen that the external one performed a lot better when it came to guessing the numbers. [write example of certain numbers being recognized by the network]\n",
    "\n",
    "When comparing the training time, the neural network performed the best. But the reason behind this is that the network itself is a lot less complicated, so it required a lot less time compared to the CNN ones. However, while looking at the training loss, the neural network suffers here a lot more and it requires more epochs to be ran in order to reach the same numbers as the CNN ones.\n",
    "\n",
    "When comparing our own CNN with the external CNN [write about comparing the confusion matrix and accuracy of the CNN models]"
   ]
  },
  {
   "cell_type": "markdown",
   "metadata": {},
   "source": [
    "# The Social, Economic and Societal Aspects of the work"
   ]
  },
  {
   "cell_type": "markdown",
   "metadata": {},
   "source": [
    "The task of handwritten digit recognition can be used for online handwriting recognition on computer tablets, recognizing zip codes on mail for postal mail sorting, processing bank check amounts, numeric entries in forms filled up by hand (for example ‐ tax forms). People can write same digits in different ways such as digit 1 and 7 can be written as:"
   ]
  },
  {
   "cell_type": "code",
   "execution_count": null,
   "metadata": {},
   "outputs": [],
   "source": [
    "display(HTML(\"<table><tr><td><img src='img/digit1and7part1.jpg'></td><td><img src='img/digit1and7part2.jpg'></td></tr></table>\"))"
   ]
  },
  {
   "cell_type": "markdown",
   "metadata": {},
   "source": [
    "The first image shows how people from English speaking countries write the digits whereas the second image shows how people from continental Europe write those digits [3]. \n",
    "\n",
    "A lot of times the prescription written by medical professionals are unreadable and only people who are part of the medical industry like pharmacists, chemists etc. Only they can understand the handwritten prescriptions of the doctors. This could be another use of the handwritten digit recognition. \n",
    "\n",
    "The handwritten digit recognition system could be expanded to recognize digits written in different writing systems for example in roman the digits are:"
   ]
  },
  {
   "cell_type": "code",
   "execution_count": null,
   "metadata": {},
   "outputs": [],
   "source": [
    "display(HTML(\"<table><tr><td><img src='img/numbers1.jpg'></td></tr></table>\"))"
   ]
  },
  {
   "cell_type": "markdown",
   "metadata": {},
   "source": [
    "Whereas in Chinese(simple) the digits are written as:"
   ]
  },
  {
   "cell_type": "code",
   "execution_count": null,
   "metadata": {},
   "outputs": [],
   "source": [
    "display(HTML(\"<table><tr><td><img src='img/numbers2.jpg'></td></tr></table>\"))"
   ]
  },
  {
   "cell_type": "markdown",
   "metadata": {},
   "source": [
    "The information about the different writing order can be found from [4]."
   ]
  },
  {
   "cell_type": "markdown",
   "metadata": {},
   "source": [
    "# Challenges"
   ]
  },
  {
   "cell_type": "markdown",
   "metadata": {},
   "source": [
    "During the project implementation, there were several challenges that the group had to face. Of the main challenges occured during the initial phase, where the group had to implement the simple neural network. Due to the fact that every group member had different experiences, it took some time to ensure that every member understand the concept behind neural networks. Only when that step was achieved, the group was able to create a simple neural network."
   ]
  },
  {
   "cell_type": "markdown",
   "metadata": {},
   "source": [
    "# Related work"
   ]
  },
  {
   "cell_type": "markdown",
   "metadata": {},
   "source": [
    "In order to get some inspiration for designing our own CNN model, some time was spent researching related work. There were mainly two papers that the group looked into.\n",
    "\n",
    "## Best Practices for Convolutional Neural Networks Applied to Visual Document Analysis\n",
    "\n",
    "The first paper [5] states that CNN with input, output and 100 hidden layers, as well as the large training data set are the most important practices to gain a superior result “the optimal performance” on MNIST data. They use Elastic Distortion to expand the training data set via applying displacement fields to images in order to generate simple distortions like translation, rotation and skewing. “This is done by computing for every pixel a new target location with respect to the original location. The new target location, at position (x,y) is given with respect to the previous position”. At the end they found that the quality of the learning systems depends on the quality and the size of training data set. As well as that distortions increase the result on MNIST data ultimately.\n",
    "\n",
    "## Study and Observation of the Variations of Accuracies for Handwritten Digits Recognition with Various Hidden Layers and Epochs using Convolutional Neural Network\n",
    "\n",
    "The second paper [6] analyses how the hidden layers in CNN effects the overall performance of the network by using the Modified National Institute of Standards and Technology (MNIST). Then it shows that CNN have attained the same effect of human level accuracies in various image recognition assessments including handwritten digits, traffic sign, etc which leads to extending the acceptance of CNN in recent years. For handwritten digits recognition this specific CNN contains seven layers. One input layer of the network consists of 748 neurons, five hidden layers (convolution layer 1, pooling layer 1, convolution layer 2, pooling layer 2 and fully connected layer one respectively) and one output layer of ten neurons.\n",
    "To increase the performance of the model ReLU activation function was used at the end of all convolutional layers and in fully connected layer. As well as a SOFTMAX activation function is used at the end of the output layer. \n",
    "Dropout regularization technique were used to minimize the probability to overfit the network. It used at the fully connected layer to learn various independent representation of the same data by arbitrarily disabling individual activation while training the system.\n",
    "It concludes that they got the best and worst lose rates when there was no dropout which means in the case when there are variety of combination of layers. However, they found that the total performance gets better if the convolutional layers are placed consecutively."
   ]
  },
  {
   "cell_type": "markdown",
   "metadata": {},
   "source": [
    "# References"
   ]
  },
  {
   "cell_type": "markdown",
   "metadata": {},
   "source": [
    "[1] https://towardsdatascience.com/handwritten-digit-mnist-pytorch-977b5338e627"
   ]
  },
  {
   "cell_type": "markdown",
   "metadata": {},
   "source": [
    "[2] https://towardsdatascience.com/mnist-handwritten-digits-classification-using-a-convolutional-neural-network-cnn-af5fafbc35e9"
   ]
  },
  {
   "cell_type": "markdown",
   "metadata": {},
   "source": [
    "[3] https://english.stackexchange.com/questions/62586/why-is-1-hand-written-without-a-serif-and-7-without-a-dash"
   ]
  },
  {
   "cell_type": "markdown",
   "metadata": {},
   "source": [
    "[4] https://www.omniglot.com/language/numerals.htm"
   ]
  },
  {
   "cell_type": "markdown",
   "metadata": {},
   "source": [
    "[5] Simard, P.Y., Steinkraus, D. and Platt, J.C., 2003, August. Best practices for convolutional neural networks applied to visual document analysis. In Icdar (Vol. 3, No. 2003)."
   ]
  },
  {
   "cell_type": "markdown",
   "metadata": {},
   "source": [
    "[6] Arif, R.B., Siddique, M.A.B., Khan, M.M.R. and Oishe, M.R., 2018, September. Study and Observation of the Variations of Accuracies for Handwritten Digits Recognition with Various Hidden Layers and Epochs using Convolutional Neural Network. In 2018 4th International Conference on Electrical Engineering and Information & Communication Technology (iCEEiCT) (pp. 112-117). IEEE."
   ]
  }
 ],
 "metadata": {
  "kernelspec": {
   "display_name": "Python 3",
   "language": "python",
   "name": "python3"
  },
  "language_info": {
   "codemirror_mode": {
    "name": "ipython",
    "version": 3
   },
   "file_extension": ".py",
   "mimetype": "text/x-python",
   "name": "python",
   "nbconvert_exporter": "python",
   "pygments_lexer": "ipython3",
   "version": "3.7.4"
  }
 },
 "nbformat": 4,
 "nbformat_minor": 2
}
