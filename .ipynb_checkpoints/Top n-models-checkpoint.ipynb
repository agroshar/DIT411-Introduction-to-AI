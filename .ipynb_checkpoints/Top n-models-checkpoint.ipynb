{
 "cells": [
  {
   "cell_type": "code",
   "execution_count": 135,
   "metadata": {},
   "outputs": [],
   "source": [
    "from operator import itemgetter, attrgetter\n",
    "import json\n",
    "\n",
    "with open('./one_epoch_models.json') as f:\n",
    "    models_params_data = json.load(f)"
   ]
  },
  {
   "cell_type": "code",
   "execution_count": 136,
   "metadata": {},
   "outputs": [
    {
     "data": {
      "text/plain": [
       "[0.994,\n",
       " {'conv_layers': [{'in_channels': 1, 'out_channels': 8, 'kernel_size': 5},\n",
       "   {'in_channels': 8, 'out_channels': 16, 'kernel_size': 5}],\n",
       "  'regular_layers': [256, 128, 64, 10],\n",
       "  'activation_function': 'Swish',\n",
       "  'optimizer': 'SGD',\n",
       "  'criterion': 'CrossEntropy',\n",
       "  'learning_rate': 0.1,\n",
       "  'momentum': 0.5}]"
      ]
     },
     "execution_count": 136,
     "metadata": {},
     "output_type": "execute_result"
    }
   ],
   "source": [
    "models_params_data[0]"
   ]
  },
  {
   "cell_type": "code",
   "execution_count": 137,
   "metadata": {},
   "outputs": [
    {
     "name": "stdout",
     "output_type": "stream",
     "text": [
      "1296\n"
     ]
    }
   ],
   "source": [
    "print(len(models_params_data))"
   ]
  },
  {
   "cell_type": "code",
   "execution_count": 138,
   "metadata": {},
   "outputs": [
    {
     "name": "stdout",
     "output_type": "stream",
     "text": [
      "Sorted by Accuracy\n"
     ]
    }
   ],
   "source": [
    "models_params_data = sorted(models_params_data, key = itemgetter(0), reverse=True)\n",
    "print('Sorted by Accuracy')"
   ]
  },
  {
   "cell_type": "code",
   "execution_count": 150,
   "metadata": {},
   "outputs": [
    {
     "name": "stdout",
     "output_type": "stream",
     "text": [
      "{'conv_layers': [{'in_channels': 1, 'out_channels': 8, 'kernel_size': 5}, {'in_channels': 8, 'out_channels': 16, 'kernel_size': 5}], 'regular_layers': [256, 128, 64, 10], 'activation_function': 'Swish', 'optimizer': 'SGD', 'criterion': 'CrossEntropy', 'learning_rate': 0.1, 'momentum': 0.5}\n",
      "{'conv_layers': [{'in_channels': 1, 'out_channels': 8, 'kernel_size': 5}, {'in_channels': 8, 'out_channels': 16, 'kernel_size': 5}], 'regular_layers': [256, 128, 10], 'activation_function': 'ReLU', 'optimizer': 'SGD', 'criterion': 'CrossEntropy', 'learning_rate': 0.1, 'momentum': 0.5}\n",
      "{'conv_layers': [{'in_channels': 1, 'out_channels': 8, 'kernel_size': 5}, {'in_channels': 8, 'out_channels': 16, 'kernel_size': 5}], 'regular_layers': [256, 128, 32, 10], 'activation_function': 'Swish', 'optimizer': 'Adam', 'criterion': 'CrossEntropy', 'learning_rate': 0.001, 'momentum': 0}\n",
      "{'conv_layers': [{'in_channels': 1, 'out_channels': 8, 'kernel_size': 5}, {'in_channels': 8, 'out_channels': 16, 'kernel_size': 5}], 'regular_layers': [256, 32, 10], 'activation_function': 'Swish', 'optimizer': 'Adam', 'criterion': 'CrossEntropy', 'learning_rate': 0.001, 'momentum': 0}\n",
      "{'conv_layers': [{'in_channels': 1, 'out_channels': 4, 'kernel_size': 5}, {'in_channels': 4, 'out_channels': 16, 'kernel_size': 5}], 'regular_layers': [256, 32, 10], 'activation_function': 'Swish', 'optimizer': 'Adam', 'criterion': 'CrossEntropy', 'learning_rate': 0.01, 'momentum': 0}\n"
     ]
    }
   ],
   "source": [
    "show_top = 5\n",
    "for i in range(0, show_top):\n",
    "    print((models_params_data[i][1]))"
   ]
  },
  {
   "cell_type": "code",
   "execution_count": null,
   "metadata": {},
   "outputs": [],
   "source": [
    "top_models_num = 100\n",
    "epochs = 20\n",
    "models_accuracies = {}\n",
    "\n",
    "model_id = 0\n",
    "for model_data in models_params_data[:top_models_num]:\n",
    "    \n",
    "    model_hyper_params = model_data[1] # select the dictionary with the yper params for each model\n",
    "    accuracies[model_id] = []\n",
    "    \n",
    "    for epoch in range(1, epochs+1):\n",
    "        model = Model(hyper_params)\n",
    "        model.to(device)\n",
    "        train_model(model)\n",
    "        \n",
    "        accuracy = test_model(model, test_set)\n",
    "        models_accuracies[model_id].append(accuracy)\n",
    "        \n",
    "    model_id+=1\n",
    "    "
   ]
  }
 ],
 "metadata": {
  "kernelspec": {
   "display_name": "Python 3",
   "language": "python",
   "name": "python3"
  },
  "language_info": {
   "codemirror_mode": {
    "name": "ipython",
    "version": 3
   },
   "file_extension": ".py",
   "mimetype": "text/x-python",
   "name": "python",
   "nbconvert_exporter": "python",
   "pygments_lexer": "ipython3",
   "version": "3.6.5"
  }
 },
 "nbformat": 4,
 "nbformat_minor": 2
}
