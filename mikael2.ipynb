{
 "cells": [
  {
   "cell_type": "markdown",
   "metadata": {},
   "source": [
    "# Neural network\n",
    "Because none of us have implemented a neural network before, our first goal is to create a simple network that is somewhat capable of recognizing the images. We will be using [this blog post \\[1\\]](https://towardsdatascience.com/handwritten-digit-mnist-pytorch-977b5338e627) as a reference for our model and the choice of hyper parameters.\n",
    "\n",
    "## Initializing and loading the data set\n",
    "\n",
    "First, we import all the libraries which we will be using for the project."
   ]
  },
  {
   "cell_type": "code",
   "execution_count": 3,
   "metadata": {},
   "outputs": [],
   "source": [
    "import numpy as np\n",
    "import torch\n",
    "import torchvision\n",
    "from torchvision import datasets, transforms\n",
    "from torch import nn, optim\n",
    "import matplotlib.pyplot as plt\n",
    "from sklearn.metrics import confusion_matrix\n",
    "from sklearn.utils.multiclass import unique_labels\n",
    "from sklearn.metrics import accuracy_score\n",
    "from sklearn.metrics import f1_score\n",
    "from IPython.display import HTML, Image, display\n",
    "from time import time"
   ]
  },
  {
   "cell_type": "code",
   "execution_count": 40,
   "metadata": {},
   "outputs": [],
   "source": [
    "# Use a constant seed for randomness so that reruns becomes predictable\n",
    "random_seed = 1\n",
    "torch.manual_seed(random_seed)\n",
    "\n",
    "torch.backends.cudnn.enabled = False"
   ]
  },
  {
   "cell_type": "markdown",
   "metadata": {},
   "source": [
    "Pytorch already have a predefined function for loading the MNIST dataset which we will be using. In addition to that the following code converts the images to Pytorch tensors and normalizes the pixels to values in the range \\[0, 1\\]. The batch sizes where taken from [1]TODO."
   ]
  },
  {
   "cell_type": "code",
   "execution_count": 5,
   "metadata": {},
   "outputs": [],
   "source": [
    "batch_size_train = 64\n",
    "batch_size_test = 1000\n",
    "\n",
    "training_set = torch.utils.data.DataLoader(torchvision.datasets.MNIST('/files/', train=True, download=True,\n",
    "                             transform=torchvision.transforms.Compose([torchvision.transforms.ToTensor(),\n",
    "                             torchvision.transforms.Normalize((0.5,), (0.5,))])),batch_size=batch_size_train, shuffle=True)\n",
    "\n",
    "test_set = torch.utils.data.DataLoader(torchvision.datasets.MNIST('/files/', train=False, download=True,\n",
    "                             transform=torchvision.transforms.Compose([torchvision.transforms.ToTensor(),\n",
    "                               torchvision.transforms.Normalize((0.5,), (0.5,))])),batch_size=batch_size_test, shuffle=True)"
   ]
  },
  {
   "cell_type": "markdown",
   "metadata": {},
   "source": [
    "Inspecting the first tensor from the training set, we can see that it has the dimensionality of 64 x 1 x 28 x 28, where 64 is the number of images in that batch and the 28x28 is the width and height of the images in pixels."
   ]
  },
  {
   "cell_type": "code",
   "execution_count": 6,
   "metadata": {},
   "outputs": [
    {
     "data": {
      "text/plain": [
       "torch.Size([64, 1, 28, 28])"
      ]
     },
     "execution_count": 6,
     "metadata": {},
     "output_type": "execute_result"
    }
   ],
   "source": [
    "examples = enumerate(training_set)\n",
    "_, (example_data, example_targets) = next(examples)\n",
    "example_data.shape"
   ]
  },
  {
   "cell_type": "markdown",
   "metadata": {},
   "source": [
    "To see what we are actually working with, we have this function that displays the images in grayscale along with their labels."
   ]
  },
  {
   "cell_type": "code",
   "execution_count": 7,
   "metadata": {},
   "outputs": [
    {
     "data": {
      "image/png": "[encoded data removed]",
      "text/plain": [
       "<Figure size 432x288 with 9 Axes>"
      ]
     },
     "metadata": {
      "needs_background": "light"
     },
     "output_type": "display_data"
    }
   ],
   "source": [
    "def plot_grayscale_images(m, n, images, labels):\n",
    "    fig = plt.figure()\n",
    "    for i in range(m * n):\n",
    "        plt.subplot(m, n, i + 1)\n",
    "        plt.tight_layout()\n",
    "        plt.imshow(images[i][0], cmap='gray', interpolation='none')\n",
    "        plt.title(\"Label: {}\".format(labels[i]))\n",
    "        plt.axis('off')\n",
    "        \n",
    "plot_grayscale_images(3, 3, example_data, example_targets)"
   ]
  },
  {
   "cell_type": "markdown",
   "metadata": {},
   "source": [
    "Now that we know that the data loaders work correctly, we can go on to implementing the model."
   ]
  },
  {
   "cell_type": "markdown",
   "metadata": {},
   "source": [
    "## Creating a basic model"
   ]
  },
  {
   "cell_type": "code",
   "execution_count": 8,
   "metadata": {},
   "outputs": [],
   "source": [
    "class BasicModel(nn.Module):\n",
    "    def __init__(self):\n",
    "        super(BasicModel, self).__init__()\n",
    "        \n",
    "        self.net = nn.Sequential(\n",
    "            nn.Linear(28 * 28, 50),\n",
    "            nn.ReLU(),\n",
    "            nn.Linear(50, 10),\n",
    "            nn.LogSoftmax(1)\n",
    "        )\n",
    "        \n",
    "        self.criterion = nn.NLLLoss()\n",
    "        self.optimizer = optim.SGD(self.parameters(), lr=0.01, momentum=0.5)\n",
    "    \n",
    "    \n",
    "    def forward(self, tensor):\n",
    "        tensor = tensor.reshape(tensor.size(0), -1)\n",
    "        return self.net(tensor)\n",
    "    \n",
    "    \n",
    "    def fit(self, tensor, labels):\n",
    "        result = self(tensor)\n",
    "        \n",
    "        self.optimizer.zero_grad()\n",
    "        loss = self.criterion(result, labels)\n",
    "        loss.backward()\n",
    "        self.optimizer.step()\n",
    "        \n",
    "        _, predictions = torch.max(result, 1)\n",
    "        total = tensor.size(0)\n",
    "        nr_correct = torch.sum(predictions == labels).item()\n",
    "        \n",
    "        return (nr_correct / total, loss.item())"
   ]
  },
  {
   "cell_type": "markdown",
   "metadata": {},
   "source": [
    "The structure of our basic model is a 784 node input layer (the size of an image when converted to a vector) connected to a 50 node hidden layer with the ReLU activation function and a 10 node output layer. For the hidden layer we tried various ranges between the input and output layer sizes but we realized that searching for hyper parameters manually is kinda inpractical and settled for 50 nodes which gave decent accuracy. \n",
    "\n",
    "The output layer is normalized with LogSoftmax. Softmax is a function which normalizes a vector to values in the range \\[0, 1\\], where all the components of the output vector add up to 1. The reason for using Softmax is because we want our output from the network to be a probability vector of each of the labels. LogSoftmax is taking the Log of Softmax which have the result of punishing incorrect values more which is good for classification problems TODO REFERENCE THIS.\n",
    "\n",
    "TODO CRITERION, OPTIMIZER, LEARNING RATE, MOMENTUM\n",
    "\n",
    "_forward:_ Since we are extending _nn.Module_ this function gets called when we are running the network. We convert each image to a vector and then feeds them through the network. \n",
    "\n",
    "_fit:_ Runs the network and backpropagate using the criterion and optimizer. Returns the accuracy and loss of the input tensor."
   ]
  },
  {
   "cell_type": "code",
   "execution_count": 9,
   "metadata": {},
   "outputs": [],
   "source": [
    "def train_model(epochs, model, data_set):\n",
    "    accuracy = []\n",
    "    for n in range(epochs):\n",
    "        for (images, labels) in data_set:\n",
    "            (batch_accuracy, batch_loss) = model.fit(images, labels)\n",
    "            accuracy.append(batch_accuracy)\n",
    "    return accuracy\n",
    "\n",
    "\n",
    "def test_model(model, data_set):\n",
    "    total = 0\n",
    "    nr_correct = 0\n",
    "    \n",
    "    for images, labels in data_set:\n",
    "        result = model(images)\n",
    "        \n",
    "        _, predictions = torch.max(result, 1)\n",
    "        total += images.size(0)\n",
    "        nr_correct += torch.sum(predictions == labels).item()\n",
    "                \n",
    "    return nr_correct / total"
   ]
  },
  {
   "cell_type": "markdown",
   "metadata": {},
   "source": [
    "The *train_model* function iterates through all the batches of the data set for *epochs* number of times and aggregates the accuracy and loss for each batch.\n",
    "*test_model* does the same as *train_model* except it does no backpropagation.\n",
    "\n",
    "In order to see how the accuracy of our network changes during the training we have created following function which takes a list of batch accuracies and plots them."
   ]
  },
  {
   "cell_type": "code",
   "execution_count": 10,
   "metadata": {},
   "outputs": [],
   "source": [
    "def plot_learning_rate(batch_accuracies):\n",
    "    fig, ax = plt.subplots()\n",
    "    ax.plot(\n",
    "        range(0, len(batch_accuracies)), \n",
    "        batch_accuracies\n",
    "    )\n",
    "\n",
    "    ax.set_ylim((0, 1))\n",
    "    ax.set(\n",
    "        xlabel='training batch', \n",
    "        ylabel='accuracy',\n",
    "        title='Model accuracy during training'\n",
    "    )\n",
    "\n",
    "    plt.show()"
   ]
  },
  {
   "cell_type": "code",
   "execution_count": 13,
   "metadata": {
    "scrolled": true
   },
   "outputs": [
    {
     "data": {
      "image/png": "[encoded data removed]",
      "text/plain": [
       "<Figure size 432x288 with 1 Axes>"
      ]
     },
     "metadata": {
      "needs_background": "light"
     },
     "output_type": "display_data"
    },
    {
     "name": "stdout",
     "output_type": "stream",
     "text": [
      "Model has an accuracy of 90.10%\n"
     ]
    }
   ],
   "source": [
    "model = BasicModel()\n",
    "accuracy = train_model(1, model, training_set)\n",
    "plot_learning_rate(accuracy)\n",
    "accuracy = test_model(model, test_set)\n",
    "print('Model has an accuracy of {:0.2f}%'.format(accuracy * 100))"
   ]
  },
  {
   "cell_type": "markdown",
   "metadata": {},
   "source": [
    "Now putting it all together, we can that the network quickly increases to 80% accuracy and then slowly increases to around 90%. Not that great accuracy but at least the network learnings something from the data set. Control checking it to the test set we can see that the learning generalizes.\n",
    "\n",
    "By plotting images next to their prediction vector, we can get a sense of which digit that perform badly. Most of the times the network gets confused the digit is porly written although a human can see what it is."
   ]
  },
  {
   "cell_type": "code",
   "execution_count": 45,
   "metadata": {},
   "outputs": [],
   "source": [
    "def plot_grayscale_image_with_classification(img, ps):\n",
    "    ps = ps.cpu().data.numpy().squeeze()\n",
    "    \n",
    "    fig, (ax1, ax2) = plt.subplots(figsize=(6,9), ncols=2)\n",
    "    ax1.imshow(img.resize_(1, 28, 28).numpy().squeeze(), cmap='gray', interpolation='none')\n",
    "    ax1.axis('off')\n",
    "    ax2.barh(np.arange(10), ps)\n",
    "    ax2.set_aspect(0.1)\n",
    "    ax2.set_yticks(np.arange(10))\n",
    "    ax2.set_yticklabels(np.arange(10))\n",
    "    ax2.set_title('Class Prediction')\n",
    "    ax2.set_xlim(0, 1.1)\n",
    "    plt.tight_layout()"
   ]
  },
  {
   "cell_type": "code",
   "execution_count": 47,
   "metadata": {},
   "outputs": [
    {
     "name": "stdout",
     "output_type": "stream",
     "text": [
      "Predicted Digit:  3\n",
      "Original Label:  3\n"
     ]
    },
    {
     "data": {
      "image/png": "[encoded data removed]",
      "text/plain": [
       "<Figure size 432x648 with 2 Axes>"
      ]
     },
     "metadata": {
      "needs_background": "light"
     },
     "output_type": "display_data"
    }
   ],
   "source": [
    "images, labels = next(iter(test_set))\n",
    "\n",
    "img = images[0].view(1, 784)\n",
    "# Turn off gradients to speed up this part\n",
    "with torch.no_grad():\n",
    "    logps = model(img)\n",
    "\n",
    "# Output of the network are log-probabilities, need to take exponential for probabilities\n",
    "ps = torch.exp(logps)\n",
    "probab = list(ps.numpy()[0])\n",
    "print(\"Predicted Digit: \", probab.index(max(probab)))\n",
    "print(\"Original Label: \", labels[0].item())\n",
    "plot_grayscale_image_with_classification(img.view(1, 28, 28), ps)"
   ]
  },
  {
   "cell_type": "markdown",
   "metadata": {},
   "source": [
    "# Creating the CNN and searching for hyper params\n",
    "\n",
    "As mentioned earlier we realized that searching for hyper parameters manually is inefficent and we decided that we would do a search to find a good set instead. Deciding between doing a random search and a grid search, we finally settled for grid search even though it would require us go through alot of combinations. In order to reduce the number of combinations we had to limit us to very few values of each parameter. Because it still would become alot of combinations we decided to only do one epoch for each model and then selecting the best performing ones to test further with more epochs. The disadvantage of this approach is that me might have missed out on models which performed poorly for the first epoch but that might have performed much better when training them longer.\n",
    "\n",
    "## CNN Model"
   ]
  },
  {
   "cell_type": "code",
   "execution_count": null,
   "metadata": {},
   "outputs": [],
   "source": [
    "class Model(nn.Module):\n",
    "    def __init__(self, hyper_params):\n",
    "        super(Model, self).__init__()\n",
    "        self.hyper_params = hyper_params\n",
    "        \n",
    "        layers = []\n",
    "        for n in self.hyper_params['conv_layers']:\n",
    "            conv_layer = nn.Conv2d(\n",
    "                n['in_channels'], \n",
    "                n['out_channels'], \n",
    "                n['kernel_size']\n",
    "            )\n",
    "            layers.append(conv_layer)\n",
    "            layers.append(self.get_activation_function())\n",
    "            layers.append(nn.MaxPool2d(2))\n",
    "        self.conv = nn.Sequential(*layers)\n",
    "        \n",
    "        layers = []\n",
    "        for i in range(len(self.hyper_params['regular_layers']) - 1):\n",
    "            nr_in = self.hyper_params['regular_layers'][i];\n",
    "            nr_out = self.hyper_params['regular_layers'][i + 1];\n",
    "            layers.append(nn.Linear(nr_in, nr_out))\n",
    "            layers.append(self.get_activation_function())\n",
    "        \n",
    "        # The output layer should not have an activation function\n",
    "        layers.pop()\n",
    "        \n",
    "        self.net = nn.Sequential(*layers)\n",
    "          \n",
    "        learning_rate = self.hyper_params['learning_rate']\n",
    "        momentum = self.hyper_params['momentum']\n",
    "        optimizer = self.hyper_params['optimizer']\n",
    "        if optimizer == 'SGD':\n",
    "            self.optimizer = optim.SGD(self.parameters(), lr=learning_rate, momentum=momentum)\n",
    "        elif optimizer == 'Adam':\n",
    "            self.optimizer = optim.Adam(self.parameters(), lr=learning_rate)\n",
    "        else:\n",
    "            raise Exception('Invalid optimizer')\n",
    "            \n",
    "        criterion = self.hyper_params['criterion']\n",
    "        if criterion == 'CrossEntropy':\n",
    "            self.criterion = nn.CrossEntropyLoss()\n",
    "        else:\n",
    "            raise Exception('Invalid criterion')\n",
    "            \n",
    "        if run_on_gpu:\n",
    "            self.to(device)\n",
    "        \n",
    "        \n",
    "    def get_activation_function(self):\n",
    "        fun = self.hyper_params['activation_function']\n",
    "        if fun == 'ReLU':\n",
    "            return nn.ReLU()\n",
    "        if fun == 'Sigmoid':\n",
    "            return torch.nn.Sigmoid()\n",
    "        if fun == 'Swish':\n",
    "            return Swish()\n",
    "        \n",
    "        \n",
    "    def forward(self, tensor):\n",
    "        tensor = self.conv(tensor)\n",
    "        tensor = tensor.reshape(tensor.size(0), -1)\n",
    "        return self.net(tensor)\n",
    "    \n",
    "    \n",
    "    def fit(self, tensor, labels):\n",
    "        if run_on_gpu:\n",
    "            tensor = tensor.to(device)\n",
    "            labels = labels.to(device)\n",
    "        result = self(tensor)\n",
    "        \n",
    "        self.optimizer.zero_grad()\n",
    "        loss = self.criterion(result, labels)\n",
    "        loss.backward()\n",
    "        self.optimizer.step()\n",
    "        \n",
    "        _, predictions = torch.max(result, 1)\n",
    "        total = tensor.size(0)\n",
    "        nr_correct = torch.sum(predictions == labels).item()\n",
    "        \n",
    "        return (nr_correct / total, loss.item())"
   ]
  },
  {
   "cell_type": "markdown",
   "metadata": {},
   "source": [
    "Instead of a hard coded network like our previous model, this model takes in a dictionary of hyper parameters and then constructs the layers from it. This allows us to have a variable amount of layers and different activation functions etc. We have also added support for convolutional layers. For each convolutional layer we have one activation function and then a pooling layer, which we based on TODO REFERENCE. The reason that we have chosen to have a dictionary instead of multiple parameters to the constructor is that we wanted an easy way to save, load and print the models parameters.\n",
    "\n",
    "*forward* works that same as the previous model except that it runs the convolutional layers before convertering the tensor to a vector.\n",
    "\n",
    "*fit* is exactly the same as the previous model\n",
    "\n",
    "## Hyper Parameter Tuning with Grid Search"
   ]
  },
  {
   "cell_type": "code",
   "execution_count": null,
   "metadata": {},
   "outputs": [],
   "source": [
    "def hyper_parameter_permutations():\n",
    "    layer_sizes = [32, 64, 128]\n",
    "    hidden_layers = [list(n) for n in itertools.permutations(layer_sizes, 1)]\\\n",
    "                  + [[a, b] for (a, b) in itertools.permutations(layer_sizes, 2) if a >= b]\n",
    "    \n",
    "    channel_sizes = [4, 8, 16]\n",
    "    conv_layers = [list(n) for n in itertools.permutations(channel_sizes, 1)]\\\n",
    "                + [[a, b] for (a, b) in itertools.permutations(channel_sizes, 2) if a <= b]\n",
    "    \n",
    "    kernel_sizes = [5]\n",
    "    activation_functions = ['ReLU', 'Sigmoid', 'Swish']\n",
    "    criterions = ['CrossEntropy']\n",
    "    \n",
    "    #Adding momentum directly to the optimizer since it's only used for SGD\n",
    "    optimizers = [('SGD', 0.1), ('SGD', 0.5), ('SGD', 1.0), 'Adam']\n",
    "    learning_rates = [0.1, 0.01, 0.001]\n",
    "\n",
    "    return itertools.product(\n",
    "        hidden_layers,\n",
    "        conv_layers,\n",
    "        kernel_sizes,\n",
    "        activation_functions,\n",
    "        criterions,\n",
    "        optimizers,\n",
    "        learning_rates\n",
    "    )"
   ]
  },
  {
   "cell_type": "code",
   "execution_count": null,
   "metadata": {},
   "outputs": [],
   "source": [
    "class Swish(nn.Module):\n",
    "    def forward(self, input_tensor):\n",
    "        return input_tensor * torch.sigmoid(input_tensor)"
   ]
  },
  {
   "cell_type": "markdown",
   "metadata": {},
   "source": [
    "TODO"
   ]
  },
  {
   "cell_type": "code",
   "execution_count": null,
   "metadata": {},
   "outputs": [],
   "source": [
    "def permutation_to_dictionary(hidden_layers, channel_sizes, kernel_size, act_fun, criterion, optimizer, learning_rate):\n",
    "    conv_layers = []\n",
    "    in_channels = 1\n",
    "    side_length = 28\n",
    "    for channel_size in channel_sizes:\n",
    "        out_channels = channel_size\n",
    "        conv_layers.append(\n",
    "            {\n",
    "                'in_channels': in_channels,\n",
    "                'out_channels': out_channels,\n",
    "                'kernel_size': kernel_size\n",
    "            }\n",
    "        )\n",
    "        in_channels = out_channels\n",
    "    \n",
    "        side_length -= kernel_size - 1\n",
    "        side_length //= 2\n",
    "        \n",
    "    if type(optimizer) is tuple:\n",
    "        momentum = optimizer[1]\n",
    "        optimizer = optimizer[0]\n",
    "    else:\n",
    "        momentum = 0\n",
    "    \n",
    "    regular_layers = [side_length * side_length * out_channels] + hidden_layers + [10]\n",
    "    return {\n",
    "        'conv_layers': conv_layers,\n",
    "        'regular_layers': regular_layers,\n",
    "        'activation_function': act_fun,\n",
    "        'optimizer': optimizer,\n",
    "        'criterion': criterion,\n",
    "        'learning_rate': learning_rate,\n",
    "        'momentum': momentum\n",
    "    }"
   ]
  },
  {
   "cell_type": "markdown",
   "metadata": {},
   "source": [
    "TODO"
   ]
  },
  {
   "cell_type": "code",
   "execution_count": null,
   "metadata": {},
   "outputs": [],
   "source": [
    "def grid_search():\n",
    "    gc.collect()\n",
    "    before = time.time()\n",
    "\n",
    "    models = []\n",
    "    \n",
    "    permutations = list(hyper_parameter_permutations())\n",
    "    \n",
    "    print(\"Searching through {} permutations\".format(len(permutations)))\n",
    "\n",
    "    i = 0\n",
    "    for n in permutations:\n",
    "        grid_search_helper(n, models)\n",
    "        break\n",
    "        i += 1\n",
    "        \n",
    "        if i % 100 == 0:\n",
    "            print(\"{} complete, time elapsed: {:.2f} minutes\".format(i, (time.time() - before) / 60))\n",
    "            \n",
    "        if i % 500 == 0:\n",
    "            gc.collect()\n",
    "\n",
    "    models.sort(key=lambda n: n[0], reverse=True)\n",
    "\n",
    "    after = time.time()\n",
    "    print(\"Done, took {:.2f} minutes\".format((after - before) / 60))\n",
    "    \n",
    "    return models\n",
    "\n",
    "# Wrapper function that allows the garbage collector to run\n",
    "def grid_search_helper(permutation, models):\n",
    "    hyper_params = permutation_to_dictionary(*permutation)\n",
    "    model = Model(hyper_params)\n",
    "    train_model(model)\n",
    "    accuracy = test_model(model, test_set)\n",
    "    models.append((accuracy, model.hyper_params))\n"
   ]
  },
  {
   "cell_type": "markdown",
   "metadata": {},
   "source": [
    "TODO"
   ]
  },
  {
   "cell_type": "code",
   "execution_count": null,
   "metadata": {},
   "outputs": [],
   "source": [
    "def write_json(params, filename):\n",
    "    params_json = json.dumps(params)\n",
    "    f = open(filename, \"w\")\n",
    "    f.write(params_json)\n",
    "    f.close()\n",
    "    \n",
    "def read_json(filename):\n",
    "    f = open(filename, \"r\")\n",
    "    params = json.loads(f.read())\n",
    "    f.close()\n",
    "    return params"
   ]
  },
  {
   "cell_type": "markdown",
   "metadata": {},
   "source": [
    "Because we don't want to perform our lengthy grid search multiple times, we have a simple read/write to a json file."
   ]
  },
  {
   "cell_type": "code",
   "execution_count": null,
   "metadata": {},
   "outputs": [],
   "source": [
    "epochs = 1\n",
    "models = grid_search()\n",
    "write_json(models, \"one_epoch_models.json\")"
   ]
  },
  {
   "cell_type": "markdown",
   "metadata": {},
   "source": [
    "*BLOCK ABOUT RUNNING IT + DISPLAY GRAPH + DRAW CONCLUSION ABOUT HYPER PARAMS*"
   ]
  }
 ],
 "metadata": {
  "kernelspec": {
   "display_name": "Python 3",
   "language": "python",
   "name": "python3"
  },
  "language_info": {
   "codemirror_mode": {
    "name": "ipython",
    "version": 3
   },
   "file_extension": ".py",
   "mimetype": "text/x-python",
   "name": "python",
   "nbconvert_exporter": "python",
   "pygments_lexer": "ipython3",
   "version": "3.7.4"
  }
 },
 "nbformat": 4,
 "nbformat_minor": 2
}
